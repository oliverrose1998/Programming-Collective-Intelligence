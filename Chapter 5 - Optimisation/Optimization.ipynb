{
 "cells": [
  {
   "cell_type": "markdown",
   "metadata": {},
   "source": [
    " Chapter 5: Optimization \n",
    " =========================="
   ]
  },
  {
   "cell_type": "code",
   "execution_count": 1,
   "metadata": {},
   "outputs": [],
   "source": [
    "import optimization"
   ]
  },
  {
   "cell_type": "markdown",
   "metadata": {},
   "source": [
    "Example of a flight schedule for the family in question."
   ]
  },
  {
   "cell_type": "code",
   "execution_count": 2,
   "metadata": {},
   "outputs": [
    {
     "name": "stdout",
     "output_type": "stream",
     "text": [
      "   Seymour       BOS  8:04-10:11 $ 95 12:08-14:05 $142\n",
      "    Franny       DAL 12:19-15:25 $342 10:51-14:16 $256\n",
      "     Zooey       CAK 10:53-13:36 $189  9:58-12:56 $249\n",
      "      Walt       MIA  9:15-12:29 $225 16:50-19:26 $304\n",
      "     Buddy       ORD 16:43-19:00 $246 10:33-13:11 $132\n",
      "       Les       OMA 11:08-13:07 $175 15:07-17:21 $129\n"
     ]
    }
   ],
   "source": [
    "s = [1,4,3,2,7,3,6,3,2,4,5,3]\n",
    "optimization.printschedule(s)"
   ]
  },
  {
   "cell_type": "markdown",
   "metadata": {},
   "source": [
    "Define a costing function to compare schedules, taking into account price and wait times."
   ]
  },
  {
   "cell_type": "code",
   "execution_count": 3,
   "metadata": {},
   "outputs": [
    {
     "data": {
      "text/plain": [
       "5469"
      ]
     },
     "execution_count": 3,
     "metadata": {},
     "output_type": "execute_result"
    }
   ],
   "source": [
    "optimization.schedulecost(s)"
   ]
  },
  {
   "cell_type": "markdown",
   "metadata": {},
   "source": [
    "Random Searching - Use a random search to find optimal solution"
   ]
  },
  {
   "cell_type": "code",
   "execution_count": 4,
   "metadata": {},
   "outputs": [
    {
     "name": "stdout",
     "output_type": "stream",
     "text": [
      "   Seymour       BOS 20:17-22:22 $102 18:24-20:49 $124\n",
      "    Franny       DAL 18:26-21:29 $464 12:20-16:34 $500\n",
      "     Zooey       CAK 12:08-14:59 $149  8:19-11:16 $122\n",
      "      Walt       MIA  7:34- 9:40 $324 12:37-15:05 $170\n",
      "     Buddy       ORD 12:44-14:17 $134 17:06-20:00 $ 95\n",
      "       Les       OMA 16:51-19:09 $147 15:07-17:21 $129\n"
     ]
    },
    {
     "data": {
      "text/plain": [
       "6726"
      ]
     },
     "execution_count": 4,
     "metadata": {},
     "output_type": "execute_result"
    }
   ],
   "source": [
    "domain = [(0,9)]*(len(optimization.people)*2)\n",
    "s = optimization.randomoptimize(domain,optimization.schedulecost)\n",
    "\n",
    "optimization.printschedule(s)\n",
    "optimization.schedulecost(s)"
   ]
  },
  {
   "cell_type": "markdown",
   "metadata": {},
   "source": [
    "Hill Climbing - Evaluate cost function of neighbours of starting solution, adopt the best solution ie the path of steepest descent and repeat"
   ]
  },
  {
   "cell_type": "code",
   "execution_count": 5,
   "metadata": {},
   "outputs": [
    {
     "ename": "IndexError",
     "evalue": "list index out of range",
     "output_type": "error",
     "traceback": [
      "\u001b[1;31m---------------------------------------------------------------------------\u001b[0m",
      "\u001b[1;31mIndexError\u001b[0m                                Traceback (most recent call last)",
      "\u001b[1;32m<ipython-input-5-4c31cf841a1b>\u001b[0m in \u001b[0;36m<module>\u001b[1;34m()\u001b[0m\n\u001b[1;32m----> 1\u001b[1;33m \u001b[0ms\u001b[0m \u001b[1;33m=\u001b[0m \u001b[0moptimization\u001b[0m\u001b[1;33m.\u001b[0m\u001b[0mhillclimb\u001b[0m\u001b[1;33m(\u001b[0m\u001b[0mdomain\u001b[0m\u001b[1;33m,\u001b[0m\u001b[0moptimization\u001b[0m\u001b[1;33m.\u001b[0m\u001b[0mschedulecost\u001b[0m\u001b[1;33m)\u001b[0m\u001b[1;33m\u001b[0m\u001b[0m\n\u001b[0m\u001b[0;32m      2\u001b[0m \u001b[1;33m\u001b[0m\u001b[0m\n\u001b[0;32m      3\u001b[0m \u001b[0moptimization\u001b[0m\u001b[1;33m.\u001b[0m\u001b[0mprintschedule\u001b[0m\u001b[1;33m(\u001b[0m\u001b[0ms\u001b[0m\u001b[1;33m)\u001b[0m\u001b[1;33m\u001b[0m\u001b[0m\n\u001b[0;32m      4\u001b[0m \u001b[0moptimization\u001b[0m\u001b[1;33m.\u001b[0m\u001b[0mschedulecost\u001b[0m\u001b[1;33m(\u001b[0m\u001b[0ms\u001b[0m\u001b[1;33m)\u001b[0m\u001b[1;33m\u001b[0m\u001b[0m\n",
      "\u001b[1;32m~\\Documents\\Scripts\\Programming Collective Intelligence\\Chapter 5 - Optimisation\\optimization.py\u001b[0m in \u001b[0;36mhillclimb\u001b[1;34m(domain, costf)\u001b[0m\n\u001b[0;32m    107\u001b[0m         \u001b[0mbest\u001b[0m\u001b[1;33m=\u001b[0m\u001b[0mcurrent\u001b[0m\u001b[1;33m\u001b[0m\u001b[0m\n\u001b[0;32m    108\u001b[0m         \u001b[1;32mfor\u001b[0m \u001b[0mj\u001b[0m \u001b[1;32min\u001b[0m \u001b[0mrange\u001b[0m\u001b[1;33m(\u001b[0m\u001b[0mlen\u001b[0m\u001b[1;33m(\u001b[0m\u001b[0mneighbors\u001b[0m\u001b[1;33m)\u001b[0m\u001b[1;33m)\u001b[0m\u001b[1;33m:\u001b[0m\u001b[1;33m\u001b[0m\u001b[0m\n\u001b[1;32m--> 109\u001b[1;33m             \u001b[0mcost\u001b[0m\u001b[1;33m=\u001b[0m\u001b[0mcostf\u001b[0m\u001b[1;33m(\u001b[0m\u001b[0mneighbors\u001b[0m\u001b[1;33m[\u001b[0m\u001b[0mj\u001b[0m\u001b[1;33m]\u001b[0m\u001b[1;33m)\u001b[0m\u001b[1;33m\u001b[0m\u001b[0m\n\u001b[0m\u001b[0;32m    110\u001b[0m             \u001b[1;32mif\u001b[0m \u001b[0mcost\u001b[0m\u001b[1;33m<\u001b[0m\u001b[0mbest\u001b[0m\u001b[1;33m:\u001b[0m\u001b[1;33m\u001b[0m\u001b[0m\n\u001b[0;32m    111\u001b[0m                 \u001b[0mbest\u001b[0m\u001b[1;33m=\u001b[0m\u001b[0mcost\u001b[0m\u001b[1;33m\u001b[0m\u001b[0m\n",
      "\u001b[1;32m~\\Documents\\Scripts\\Programming Collective Intelligence\\Chapter 5 - Optimisation\\optimization.py\u001b[0m in \u001b[0;36mschedulecost\u001b[1;34m(sol)\u001b[0m\n\u001b[0;32m     43\u001b[0m         \u001b[1;31m# Get the inbound and outbound flights\u001b[0m\u001b[1;33m\u001b[0m\u001b[1;33m\u001b[0m\u001b[0m\n\u001b[0;32m     44\u001b[0m         \u001b[0morigin\u001b[0m\u001b[1;33m=\u001b[0m\u001b[0mpeople\u001b[0m\u001b[1;33m[\u001b[0m\u001b[0md\u001b[0m\u001b[1;33m]\u001b[0m\u001b[1;33m[\u001b[0m\u001b[1;36m1\u001b[0m\u001b[1;33m]\u001b[0m\u001b[1;33m\u001b[0m\u001b[0m\n\u001b[1;32m---> 45\u001b[1;33m         \u001b[0moutbound\u001b[0m\u001b[1;33m=\u001b[0m\u001b[0mflights\u001b[0m\u001b[1;33m[\u001b[0m\u001b[1;33m(\u001b[0m\u001b[0morigin\u001b[0m\u001b[1;33m,\u001b[0m\u001b[0mdestination\u001b[0m\u001b[1;33m)\u001b[0m\u001b[1;33m]\u001b[0m\u001b[1;33m[\u001b[0m\u001b[0mint\u001b[0m\u001b[1;33m(\u001b[0m\u001b[0msol\u001b[0m\u001b[1;33m[\u001b[0m\u001b[1;36m2\u001b[0m\u001b[1;33m*\u001b[0m\u001b[0md\u001b[0m\u001b[1;33m]\u001b[0m\u001b[1;33m)\u001b[0m\u001b[1;33m]\u001b[0m\u001b[1;33m\u001b[0m\u001b[0m\n\u001b[0m\u001b[0;32m     46\u001b[0m         \u001b[0mreturnf\u001b[0m\u001b[1;33m=\u001b[0m\u001b[0mflights\u001b[0m\u001b[1;33m[\u001b[0m\u001b[1;33m(\u001b[0m\u001b[0mdestination\u001b[0m\u001b[1;33m,\u001b[0m\u001b[0morigin\u001b[0m\u001b[1;33m)\u001b[0m\u001b[1;33m]\u001b[0m\u001b[1;33m[\u001b[0m\u001b[0mint\u001b[0m\u001b[1;33m(\u001b[0m\u001b[0msol\u001b[0m\u001b[1;33m[\u001b[0m\u001b[1;36m2\u001b[0m\u001b[1;33m*\u001b[0m\u001b[0md\u001b[0m\u001b[1;33m+\u001b[0m\u001b[1;36m1\u001b[0m\u001b[1;33m]\u001b[0m\u001b[1;33m)\u001b[0m\u001b[1;33m]\u001b[0m\u001b[1;33m\u001b[0m\u001b[0m\n\u001b[0;32m     47\u001b[0m \u001b[1;33m\u001b[0m\u001b[0m\n",
      "\u001b[1;31mIndexError\u001b[0m: list index out of range"
     ]
    }
   ],
   "source": [
    "s = optimization.hillclimb(domain,optimization.schedulecost)\n",
    "\n",
    "optimization.printschedule(s)\n",
    "optimization.schedulecost(s)"
   ]
  },
  {
   "cell_type": "markdown",
   "metadata": {},
   "source": [
    "Simulated Annealing - Initially similar to hill climbing, in each iteration one number/flight is chosen randomly and changed. The probability of a new solution being adopted is given by the formula p = exp((lowcost-highcost)/temp). As the temperature decreases a lower cost solution is increasingly likely to be chosen. The added computation is an effort to avoid the local minimum problem the plagues the hill climbing method."
   ]
  },
  {
   "cell_type": "code",
   "execution_count": 6,
   "metadata": {},
   "outputs": [
    {
     "name": "stdout",
     "output_type": "stream",
     "text": [
      "   Seymour       BOS 13:40-15:37 $138 13:39-15:30 $ 74\n",
      "    Franny       DAL 13:54-18:02 $294 10:51-14:16 $256\n",
      "     Zooey       CAK 10:53-13:36 $189 16:33-18:15 $253\n",
      "      Walt       MIA 17:07-20:04 $291 14:08-16:09 $232\n",
      "     Buddy       ORD 14:22-16:32 $126 14:19-17:09 $190\n",
      "       Les       OMA 13:37-15:08 $250  9:31-11:43 $210\n"
     ]
    },
    {
     "data": {
      "text/plain": [
       "3021"
      ]
     },
     "execution_count": 6,
     "metadata": {},
     "output_type": "execute_result"
    }
   ],
   "source": [
    "s = optimization.annealingoptimize(domain,optimization.schedulecost)\n",
    "\n",
    "optimization.printschedule(s)\n",
    "optimization.schedulecost(s)"
   ]
  },
  {
   "cell_type": "markdown",
   "metadata": {},
   "source": [
    "Genetic Algorithms - A set of random solutions (population) is generated and ranked. The next generation is a population comprising of the best solutions from the previous genereation (elitism) and new solutions generated from the elite solutions. New solutions may be produced through small changes to an existing solution (mutation) or by combining existing solutions (breeding)."
   ]
  },
  {
   "cell_type": "code",
   "execution_count": 7,
   "metadata": {},
   "outputs": [
    {
     "name": "stdout",
     "output_type": "stream",
     "text": [
      "4439\n",
      "   Seymour       BOS  8:04-10:11 $ 95 12:08-14:05 $142\n",
      "    Franny       DAL 12:19-15:25 $342 12:20-16:34 $500\n",
      "     Zooey       CAK 12:08-14:59 $149  9:58-12:56 $249\n",
      "      Walt       MIA  9:15-12:29 $225 15:23-18:49 $150\n",
      "     Buddy       ORD 15:58-18:40 $173 19:32-21:25 $160\n",
      "       Les       OMA 20:05-22:06 $261  8:04-10:59 $136\n"
     ]
    },
    {
     "data": {
      "text/plain": [
       "4439"
      ]
     },
     "execution_count": 7,
     "metadata": {},
     "output_type": "execute_result"
    }
   ],
   "source": [
    "s = optimization.geneticoptimize(domain,optimization.schedulecost)\n",
    "\n",
    "optimization.printschedule(s)\n",
    "optimization.schedulecost(s)"
   ]
  },
  {
   "cell_type": "markdown",
   "metadata": {},
   "source": [
    "Network Visualisation - The annealing algorithmn is used to best show a network of people with connections to one another. The cost function here is basic but represents the number of crossed lines."
   ]
  },
  {
   "cell_type": "code",
   "execution_count": 10,
   "metadata": {},
   "outputs": [],
   "source": [
    "import socialnetwork\n",
    "sol = optimization.annealingoptimize(socialnetwork.domain,socialnetwork.crosscount)\n",
    "socialnetwork.drawnetwork(sol)"
   ]
  }
 ],
 "metadata": {
  "kernelspec": {
   "display_name": "Python 3",
   "language": "python",
   "name": "python3"
  },
  "language_info": {
   "codemirror_mode": {
    "name": "ipython",
    "version": 3
   },
   "file_extension": ".py",
   "mimetype": "text/x-python",
   "name": "python",
   "nbconvert_exporter": "python",
   "pygments_lexer": "ipython3",
   "version": "3.7.0"
  }
 },
 "nbformat": 4,
 "nbformat_minor": 2
}
